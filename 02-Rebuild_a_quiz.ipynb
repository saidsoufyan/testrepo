{
 "cells": [
  {
   "cell_type": "markdown",
   "metadata": {},
   "source": [
    "# Build a quiz - Part 2"
   ]
  },
  {
   "cell_type": "markdown",
   "metadata": {},
   "source": [
    "class quiz():\n",
    "     def __init__(self): # special method for initializing internal attributes (optional if no internal attributes)\n",
    "        self.nb_de_chances =3\n",
    "        self.question = \"\"\n",
    "        self.reponses = \"\"\n",
    "        \n",
    "    def question(q,r):\n",
    "        question = input(q)\n",
    "        while question != r:\n",
    "            nb_de_chances -=1\n",
    "            print(\"Dommage ! Il te reste {} chances\".format(nb_de_chances))\n",
    "            if nb_de_chances == 0:\n",
    "                print(\"Oh non ! Tu as perdu le jeu...\")\n",
    "                break\n",
    "            question = input(q)\n",
    "            \n",
    "q1= quiz()\n",
    "q1 = question(\"Quand a été fondé Apple ?\",\"1976\")"
   ]
  },
  {
   "cell_type": "raw",
   "metadata": {},
   "source": []
  },
  {
   "cell_type": "code",
   "execution_count": 36,
   "metadata": {},
   "outputs": [
    {
     "name": "stdout",
     "output_type": "stream",
     "text": [
      "quiz début\n"
     ]
    },
    {
     "name": "stdin",
     "output_type": "stream",
     "text": [
      "Quand a été fondé Apple ? 1976\n"
     ]
    },
    {
     "name": "stdout",
     "output_type": "stream",
     "text": [
      "Yes!bravo\n"
     ]
    },
    {
     "name": "stdin",
     "output_type": "stream",
     "text": [
      "Qui a fondé SpaceX ?  66\n"
     ]
    },
    {
     "name": "stdout",
     "output_type": "stream",
     "text": [
      "Dommage ! Il te reste 2 chances\n"
     ]
    },
    {
     "name": "stdin",
     "output_type": "stream",
     "text": [
      "Qui a fondé SpaceX ?  555\n"
     ]
    },
    {
     "name": "stdout",
     "output_type": "stream",
     "text": [
      "Dommage ! Il te reste 1 chances\n"
     ]
    },
    {
     "name": "stdin",
     "output_type": "stream",
     "text": [
      "Qui a fondé SpaceX ?  55\n"
     ]
    },
    {
     "name": "stdout",
     "output_type": "stream",
     "text": [
      "Dommage ! Il te reste 0 chances\n",
      "Tu as perdu le jeu...\n",
      "quiz terminé\n"
     ]
    }
   ],
   "source": [
    "class quiz():\n",
    "    #nb_de_chances = 3\n",
    "    def __init__(self): \n",
    "        self.nb_de_chances = 3\n",
    "        \n",
    "    def question(self,q,r):\n",
    "        #nb_de_chances =3\n",
    "        if self.nb_de_chances != 0 :  \n",
    "            question = input(q)\n",
    "            while question != r:\n",
    "                #quiz().nb_de_chances -= 1\n",
    "                self.nb_de_chances -= 1\n",
    "                print(\"Dommage ! Il te reste {} chances\".format(self.nb_de_chances))\n",
    "                if self.nb_de_chances == 0 :\n",
    "                    print(\"Tu as perdu le jeu...\")\n",
    "                    break\n",
    "\n",
    "                question = input(q)\n",
    "        \n",
    "        if self.nb_de_chances != 0 :  \n",
    "            print(\"Yes!bravo\")\n",
    "print(\"quiz début\")\n",
    "q = quiz()\n",
    "q.question(\"Quand a été fondé Apple ?\",\"1976\")\n",
    "q.question(\"Qui a fondé SpaceX ? \",\"musk\")\n",
    "q.question(\"Combien de fois la France a gagné la coupe du monde ? \",\"2\")\n",
    "print(\"quiz terminé\")"
   ]
  },
  {
   "cell_type": "code",
   "execution_count": null,
   "metadata": {},
   "outputs": [],
   "source": []
  },
  {
   "cell_type": "code",
   "execution_count": null,
   "metadata": {},
   "outputs": [],
   "source": []
  },
  {
   "cell_type": "code",
   "execution_count": null,
   "metadata": {},
   "outputs": [],
   "source": []
  }
 ],
 "metadata": {
  "kernelspec": {
   "display_name": "Python 3",
   "language": "python",
   "name": "python3"
  },
  "language_info": {
   "codemirror_mode": {
    "name": "ipython",
    "version": 3
   },
   "file_extension": ".py",
   "mimetype": "text/x-python",
   "name": "python",
   "nbconvert_exporter": "python",
   "pygments_lexer": "ipython3",
   "version": "3.8.6"
  }
 },
 "nbformat": 4,
 "nbformat_minor": 4
}
